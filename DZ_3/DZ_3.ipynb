{
  "nbformat": 4,
  "nbformat_minor": 0,
  "metadata": {
    "colab": {
      "provenance": []
    },
    "kernelspec": {
      "name": "python3",
      "display_name": "Python 3"
    },
    "language_info": {
      "name": "python"
    }
  },
  "cells": [
    {
      "cell_type": "markdown",
      "source": [
        "# Домашнее задание\n",
        "\n",
        "Реализуйте классификацию эмоциональной окрашенности текстов при помощи объекта pipeline.\n",
        "\n",
        "1. Найдите тип задач Sentiment Analysis на huggingface.co\n",
        "2. Найдите модель для русского языка (примеры: rubert-tiny2..., rubert-base...)"
      ],
      "metadata": {
        "id": "7HH_am3GTJOZ"
      }
    },
    {
      "cell_type": "code",
      "source": [
        "pip install transformers torch"
      ],
      "metadata": {
        "colab": {
          "base_uri": "https://localhost:8080/"
        },
        "id": "vj-ROqkMT6Lt",
        "outputId": "4052188d-fd33-4db4-aca7-b1493032f6f7"
      },
      "execution_count": 15,
      "outputs": [
        {
          "output_type": "stream",
          "name": "stdout",
          "text": [
            "Requirement already satisfied: transformers in /usr/local/lib/python3.10/dist-packages (4.42.4)\n",
            "Requirement already satisfied: torch in /usr/local/lib/python3.10/dist-packages (2.4.0+cu121)\n",
            "Requirement already satisfied: filelock in /usr/local/lib/python3.10/dist-packages (from transformers) (3.15.4)\n",
            "Requirement already satisfied: huggingface-hub<1.0,>=0.23.2 in /usr/local/lib/python3.10/dist-packages (from transformers) (0.23.5)\n",
            "Requirement already satisfied: numpy<2.0,>=1.17 in /usr/local/lib/python3.10/dist-packages (from transformers) (1.26.4)\n",
            "Requirement already satisfied: packaging>=20.0 in /usr/local/lib/python3.10/dist-packages (from transformers) (24.1)\n",
            "Requirement already satisfied: pyyaml>=5.1 in /usr/local/lib/python3.10/dist-packages (from transformers) (6.0.2)\n",
            "Requirement already satisfied: regex!=2019.12.17 in /usr/local/lib/python3.10/dist-packages (from transformers) (2024.5.15)\n",
            "Requirement already satisfied: requests in /usr/local/lib/python3.10/dist-packages (from transformers) (2.32.3)\n",
            "Requirement already satisfied: safetensors>=0.4.1 in /usr/local/lib/python3.10/dist-packages (from transformers) (0.4.4)\n",
            "Requirement already satisfied: tokenizers<0.20,>=0.19 in /usr/local/lib/python3.10/dist-packages (from transformers) (0.19.1)\n",
            "Requirement already satisfied: tqdm>=4.27 in /usr/local/lib/python3.10/dist-packages (from transformers) (4.66.5)\n",
            "Requirement already satisfied: typing-extensions>=4.8.0 in /usr/local/lib/python3.10/dist-packages (from torch) (4.12.2)\n",
            "Requirement already satisfied: sympy in /usr/local/lib/python3.10/dist-packages (from torch) (1.13.2)\n",
            "Requirement already satisfied: networkx in /usr/local/lib/python3.10/dist-packages (from torch) (3.3)\n",
            "Requirement already satisfied: jinja2 in /usr/local/lib/python3.10/dist-packages (from torch) (3.1.4)\n",
            "Requirement already satisfied: fsspec in /usr/local/lib/python3.10/dist-packages (from torch) (2024.6.1)\n",
            "Requirement already satisfied: MarkupSafe>=2.0 in /usr/local/lib/python3.10/dist-packages (from jinja2->torch) (2.1.5)\n",
            "Requirement already satisfied: charset-normalizer<4,>=2 in /usr/local/lib/python3.10/dist-packages (from requests->transformers) (3.3.2)\n",
            "Requirement already satisfied: idna<4,>=2.5 in /usr/local/lib/python3.10/dist-packages (from requests->transformers) (3.8)\n",
            "Requirement already satisfied: urllib3<3,>=1.21.1 in /usr/local/lib/python3.10/dist-packages (from requests->transformers) (2.0.7)\n",
            "Requirement already satisfied: certifi>=2017.4.17 in /usr/local/lib/python3.10/dist-packages (from requests->transformers) (2024.7.4)\n",
            "Requirement already satisfied: mpmath<1.4,>=1.1.0 in /usr/local/lib/python3.10/dist-packages (from sympy->torch) (1.3.0)\n"
          ]
        }
      ]
    },
    {
      "cell_type": "code",
      "execution_count": 16,
      "metadata": {
        "id": "_Ya865JeTFab"
      },
      "outputs": [],
      "source": [
        "from transformers import AutoTokenizer, AutoModelForSequenceClassification, pipeline"
      ]
    },
    {
      "cell_type": "code",
      "source": [
        "# Загружаем токенизатор и модель для детекции эмоций\n",
        "model_name = \"cointegrated/rubert-tiny2-cedr-emotion-detection\"\n",
        "tokenizer = AutoTokenizer.from_pretrained(model_name)\n",
        "model = AutoModelForSequenceClassification.from_pretrained(model_name)\n",
        "\n",
        "# Создаем объект pipeline для анализа сентимента\n",
        "classifier = pipeline(\"sentiment-analysis\", model=model, tokenizer=tokenizer)\n",
        "\n",
        "# Тексты для анализа\n",
        "texts = [\n",
        "    \"И вспоминай меня таким, каким ты хочешь. Не стой на ветру, не теряйся в нем. Все проходит, и это тоже пройдет. Ты сильнее, чем думаешь.\",\n",
        "    \"Взгляни на мир с другой стороны. Улыбнись и иди дальше. Держись, все будет хорошо.\",\n",
        "    \"Я невероятно разочарован в этой ситуации. Ожидания не оправдались, и всё складывается не так, как хотелось бы.\",\n",
        "    \"Сегодня был отличный день, солнце светило ярко, и я чувствую себя замечательно!\",\n",
        "    \"Мне страшно и грустно. Все вокруг кажется серым и унылым.\"\n",
        "]\n",
        "\n",
        "# Обработка каждого текста и вывод результата\n",
        "try:\n",
        "    results = classifier(texts)\n",
        "\n",
        "    # Печатаем результаты анализа\n",
        "    for text, result in zip(texts, results):\n",
        "        print(f\"Текст: '{text}'\\nОценка: {result['label']}, Уверенность: {result['score']:.3f}\\n\")\n",
        "except Exception as e:\n",
        "    print(f\"Произошла ошибка: {e}\")"
      ],
      "metadata": {
        "colab": {
          "base_uri": "https://localhost:8080/"
        },
        "id": "w5QKHZNeWr3M",
        "outputId": "5a250d1a-b6fe-45f3-958b-85d1d38ee1b1"
      },
      "execution_count": 18,
      "outputs": [
        {
          "output_type": "stream",
          "name": "stdout",
          "text": [
            "Текст: 'И вспоминай меня таким, каким ты хочешь. Не стой на ветру, не теряйся в нем. Все проходит, и это тоже пройдет. Ты сильнее, чем думаешь.'\n",
            "Оценка: no_emotion, Уверенность: 0.987\n",
            "\n",
            "Текст: 'Взгляни на мир с другой стороны. Улыбнись и иди дальше. Держись, все будет хорошо.'\n",
            "Оценка: joy, Уверенность: 0.983\n",
            "\n",
            "Текст: 'Я невероятно разочарован в этой ситуации. Ожидания не оправдались, и всё складывается не так, как хотелось бы.'\n",
            "Оценка: sadness, Уверенность: 0.970\n",
            "\n",
            "Текст: 'Сегодня был отличный день, солнце светило ярко, и я чувствую себя замечательно!'\n",
            "Оценка: joy, Уверенность: 0.984\n",
            "\n",
            "Текст: 'Мне страшно и грустно. Все вокруг кажется серым и унылым.'\n",
            "Оценка: sadness, Уверенность: 0.918\n",
            "\n"
          ]
        }
      ]
    }
  ]
}